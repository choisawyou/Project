{
 "cells": [
  {
   "cell_type": "code",
   "execution_count": null,
   "metadata": {
    "scrolled": true
   },
   "outputs": [],
   "source": [
    "# !pip install simplejson"
   ]
  },
  {
   "cell_type": "code",
   "execution_count": null,
   "metadata": {},
   "outputs": [],
   "source": [
    "# url = \"https://dapi.kakao.com/v2/local/search/keyword.json?\"\n",
    "# apikey = \"RANDOM\"\n",
    "# query = '고성리 게스트하우스'\n",
    "# r = requests.get( url, params = {'query':query}, headers={'Authorization' : 'KakaoAK ' + apikey } )\n",
    "# js = simplejson.JSONEncoder().encode(r.json())\n",
    "# r_json = r.json()\n",
    "\n"
   ]
  },
  {
   "cell_type": "markdown",
   "metadata": {},
   "source": [
    "# keyword\n",
    "- 게스트하우스\n",
    "    - 고성리\n",
    "    - 우도\n",
    "    - 오조리\n",
    "    - 성산리\n",
    "    - 시흥리\n",
    "    - 신산리\n",
    "    - 온평리\n",
    "    \n",
    "- 파티\n",
    "    - pass\n",
    "    \n",
    "- 성산일출봉"
   ]
  },
  {
   "cell_type": "code",
   "execution_count": null,
   "metadata": {},
   "outputs": [],
   "source": [
    "# import simplejson,requests\n",
    "\n",
    "# def find_places_keyword(searching):\n",
    "#     url = \"https://dapi.kakao.com/v2/local/search/keyword.json?\"\n",
    "#     apikey = \"RANDOM\"\n",
    "#     query = searching\n",
    "#     r = requests.get( url, params = {'query':query}, headers={'Authorization' : 'KakaoAK ' + apikey } )\n",
    "#     js = simplejson.JSONEncoder().encode(r.json())\n",
    "#     r_json = r.json()\n",
    "#     r_json\n",
    "        \n",
    "#     data=[]\n",
    "#     for i in range(len(r_json['documents'])):\n",
    "#         category = r_json['documents'][i]['category_name']\n",
    "#         name = r_json['documents'][i]['place_name']\n",
    "#         address = r_json['documents'][i]['address_name']\n",
    "#         lat = r_json['documents'][i]['y'] #위도:y:latitud / 경도:x:longtitude/ \n",
    "#         long = r_json['documents'][i]['x']\n",
    "#         a = [searching,category,name,address,lat,long]\n",
    "#         data.append(a)\n",
    "#     return data"
   ]
  },
  {
   "cell_type": "code",
   "execution_count": null,
   "metadata": {},
   "outputs": [],
   "source": [
    "# data"
   ]
  },
  {
   "cell_type": "code",
   "execution_count": null,
   "metadata": {},
   "outputs": [],
   "source": [
    "# result = []"
   ]
  },
  {
   "cell_type": "markdown",
   "metadata": {},
   "source": [
    "# MAP API\n",
    "    - 고성리\n",
    "    - 우도\n",
    "    - 오조리\n",
    "    - 성산리\n",
    "    - 시흥리\n",
    "    - 신산리\n",
    "    - 온평리"
   ]
  },
  {
   "cell_type": "code",
   "execution_count": 1,
   "metadata": {},
   "outputs": [],
   "source": [
    "import simplejson,requests\n",
    "\n",
    "def find_places_keyword(searching):\n",
    "    url = \"https://dapi.kakao.com/v2/local/search/keyword.json?\"\n",
    "    apikey = \"RANDOM\"\n",
    "    query = searching\n",
    "    r = requests.get( url, params = {'query':query}, headers={'Authorization' : 'KakaoAK ' + apikey } )\n",
    "    js = simplejson.JSONEncoder().encode(r.json())\n",
    "    r_json = r.json()\n",
    "    r_json\n",
    "        \n",
    "    data=[]\n",
    "    for i in range(len(r_json['documents'])):\n",
    "        category = r_json['documents'][i]['category_name']\n",
    "        name = r_json['documents'][i]['place_name']\n",
    "        address = r_json['documents'][i]['address_name']\n",
    "        lat = r_json['documents'][i]['y'] #위도:y:latitud / 경도:x:longtitude/ \n",
    "        long = r_json['documents'][i]['x']\n",
    "        a = [searching,category,name,address,lat,long]\n",
    "        data.append(a)\n",
    "    return data\n"
   ]
  },
  {
   "cell_type": "code",
   "execution_count": 2,
   "metadata": {},
   "outputs": [],
   "source": [
    "result = []"
   ]
  },
  {
   "cell_type": "code",
   "execution_count": 3,
   "metadata": {},
   "outputs": [],
   "source": [
    "#게스트하우스\n",
    "guest_gosung = find_places_keyword('고성리 게스트하우스')\n",
    "guest_udo = find_places_keyword('우도 게스트하우스')\n",
    "guest_ozo = find_places_keyword('오조리 게스트하우스')\n",
    "guest_ss = find_places_keyword('성산리 게스트하우스')\n",
    "guest_siheung = find_places_keyword('시흥리 게스트하우스')\n",
    "guest_sinsan = find_places_keyword('서귀포 신산리 게스트하우스')\n",
    "guest_onpyeong = find_places_keyword('온평리 게스트하우스')\n",
    "\n",
    "#맛집\n",
    "food_gs = find_places_keyword('고성리 맛집')\n",
    "food_udo = find_places_keyword('우도 맛집')\n",
    "food_ozo = find_places_keyword('오조리 맛집')\n",
    "food_ss = find_places_keyword('성산리 맛집')\n",
    "food_sh = find_places_keyword('시흥리 맛집')\n",
    "food_sin = find_places_keyword('서귀포 신산리 맛집')\n",
    "food_on = find_places_keyword('온평리 맛집')\n",
    "\n",
    "# 성산일출봉\n",
    "bong = find_places_keyword('성산일출봉')\n",
    "\n",
    "#카페\n",
    "cafe_gs = find_places_keyword('고성리 카페')\n",
    "cafe_udo = find_places_keyword('우도 카페')\n",
    "cafe_ozo = find_places_keyword('오조리 카페')\n",
    "cafe_ss = find_places_keyword('성산리 카페')\n",
    "cafe_sh = find_places_keyword('시흥리 카페')\n",
    "cafe_sin = find_places_keyword('서귀포 신산리 카페')\n",
    "cafe_on = find_places_keyword('온평리 카페')\n",
    "\n",
    "#돼지 + 고기 \n",
    "pork_gs = find_places_keyword('고성리 돼지고기')\n",
    "pork_udo = find_places_keyword('우도 돼지고기')\n",
    "pork_ozo = find_places_keyword('오조리 돼지고기')\n",
    "pork_ss = find_places_keyword('성산리 돼지고기')\n",
    "pork_sh = find_places_keyword('시흥리 돼지고기')\n",
    "pork_sin = find_places_keyword('서귀포 신산리 돼지고기')\n",
    "pork_on = find_places_keyword('온평리 돼지고기')\n",
    "\n",
    "#숙소\n",
    "acc_gs = find_places_keyword('고성리 숙소')\n",
    "acc_udo = find_places_keyword('우도 숙소')\n",
    "acc_ozo = find_places_keyword('오조리 숙소')\n",
    "acc_ss = find_places_keyword('성산리 숙소')\n",
    "acc_sh = find_places_keyword('시흥리 숙소')\n",
    "acc_sin = find_places_keyword('서귀포 신산리 숙소')\n",
    "acc_on = find_places_keyword('온평리 숙소')\n",
    "\n",
    "#여객터미널\n",
    "ter_udo = find_places_keyword('우도 여객터미널')\n",
    "ter_ss = find_places_keyword('성산 여객터미널')\n",
    "\n",
    "#해변(바다)\n",
    "sea_gs = find_places_keyword('고성리 해변')\n",
    "sea_udo = find_places_keyword('우도 해변')\n",
    "sea_ozo = find_places_keyword('오조리 해변')\n",
    "sea_ss = find_places_keyword('성산리 해변')\n",
    "sea_sh = find_places_keyword('시흥리 해변')\n",
    "sea_sin = find_places_keyword('서귀포 신산리 해변')\n",
    "sea_on = find_places_keyword('온평리 해변')\n",
    "\n",
    "#갈치\n",
    "silver_gs = find_places_keyword('고성리 갈치')\n",
    "silver_udo = find_places_keyword('우도 갈치')\n",
    "silver_ozo = find_places_keyword('오조리 갈치')\n",
    "silver_ss = find_places_keyword('성산리 갈치')\n",
    "silver_sh = find_places_keyword('시흥리 갈치')\n",
    "silver_sin = find_places_keyword('서귀포 신산리 갈치')\n",
    "silver_on = find_places_keyword('온평리 갈치')\n",
    "\n",
    "\n",
    "#펜션\n",
    "pension_gs = find_places_keyword('고성리 펜션')\n",
    "pension_udo = find_places_keyword('우도 펜션')\n",
    "pension_ozo = find_places_keyword('오조리 펜션')\n",
    "pension_ss = find_places_keyword('성산리 펜션')\n",
    "pension_sh = find_places_keyword('시흥리 펜션')\n",
    "pension_sin = find_places_keyword('서귀포 신산리 펜션')\n",
    "pension_on = find_places_keyword('온평리 펜션')\n",
    "\n",
    "#전복\n",
    "abalon_gs = find_places_keyword('고성리 전복')\n",
    "abalon_udo = find_places_keyword('우도 전복')\n",
    "abalon_ozo = find_places_keyword('오조리 전복')\n",
    "abalon_ss = find_places_keyword('성산리 전복')\n",
    "abalon_sh = find_places_keyword('시흥리 전복')\n",
    "abalon_sin = find_places_keyword('서귀포 신산리 전복')\n",
    "abalon_on = find_places_keyword('온평리 전복')\n",
    "\n",
    "#수국\n",
    "flower_gs = find_places_keyword('고성리 수국')\n",
    "flower_udo = find_places_keyword('우도 수국')\n",
    "flower_ozo = find_places_keyword('오조리 수국')\n",
    "flower_ss = find_places_keyword('성산리 수국')\n",
    "flower_sh = find_places_keyword('시흥리 수국')\n",
    "flower_sin = find_places_keyword('서귀포 신산리 수국')\n",
    "flower_on = find_places_keyword('온평리 수국')\n"
   ]
  },
  {
   "cell_type": "code",
   "execution_count": 4,
   "metadata": {},
   "outputs": [],
   "source": [
    "#게스트하우스\n",
    "result.append(guest_gosung)\n",
    "result.append(guest_udo)\n",
    "result.append(guest_ozo)\n",
    "result.append(guest_ss)\n",
    "result.append(guest_siheung)\n",
    "result.append(guest_sinsan)\n",
    "result.append(guest_onpyeong)\n",
    "\n",
    "#맛집\n",
    "result.append(food_gs)\n",
    "result.append(food_udo)\n",
    "result.append(food_ozo)\n",
    "result.append(food_ss)\n",
    "result.append(food_sh)\n",
    "result.append(food_sin)\n",
    "result.append(food_on)\n",
    "\n",
    "#성산일출봉\n",
    "result.append(bong)\n",
    "\n",
    "#카페\n",
    "result.append(cafe_gs)\n",
    "result.append(cafe_udo)\n",
    "result.append(cafe_ozo)\n",
    "result.append(cafe_ss)\n",
    "result.append(cafe_sh)\n",
    "result.append(cafe_sin)\n",
    "result.append(cafe_on)\n",
    "\n",
    "#돼지 + 고기\n",
    "result.append(pork_gs)\n",
    "result.append(pork_udo)\n",
    "result.append(pork_ozo)\n",
    "result.append(pork_ss)\n",
    "result.append(pork_sh)\n",
    "result.append(pork_sin)\n",
    "result.append(pork_on)\n",
    "\n",
    "\n",
    "#숙소\n",
    "result.append(acc_gs) \n",
    "result.append(acc_udo) \n",
    "result.append(acc_ozo)\n",
    "result.append(acc_ss) \n",
    "result.append(acc_sh) \n",
    "result.append(acc_sin) \n",
    "result.append(acc_on)\n",
    "\n",
    "#여객+터미널\n",
    "result.append(ter_udo)\n",
    "result.append(ter_ss)\n",
    "\n",
    "#해변(바다)\n",
    "result.append(sea_gs) \n",
    "result.append(sea_udo)\n",
    "result.append(sea_ozo)\n",
    "result.append(sea_ss)\n",
    "result.append(sea_sh)\n",
    "result.append(sea_sin)\n",
    "result.append(sea_on)\n",
    "\n",
    "#갈치\n",
    "result.append(silver_gs)\n",
    "result.append(silver_udo)\n",
    "result.append(silver_ozo)\n",
    "result.append(silver_ss)\n",
    "result.append(silver_sh)\n",
    "result.append(silver_sin)\n",
    "result.append(silver_on)\n",
    "\n",
    "#펜션\n",
    "result.append(pension_gs)\n",
    "result.append(pension_udo)\n",
    "result.append(pension_ozo)\n",
    "result.append(pension_ss)\n",
    "result.append(pension_sh)\n",
    "result.append(pension_sin)\n",
    "result.append(pension_on)\n",
    "\n",
    "#전복\n",
    "result.append(abalon_gs)\n",
    "result.append(abalon_udo)\n",
    "result.append(abalon_ozo)\n",
    "result.append(abalon_ss)\n",
    "result.append(abalon_sh)\n",
    "result.append(abalon_sin)\n",
    "result.append(abalon_on)\n",
    "\n",
    "#수국\n",
    "result.append(flower_gs)\n",
    "result.append(flower_udo)\n",
    "result.append(flower_ozo)\n",
    "result.append(flower_ss)\n",
    "result.append(flower_sh)\n",
    "result.append(flower_sin)\n",
    "result.append(flower_on)\n",
    "\n",
    "            "
   ]
  },
  {
   "cell_type": "code",
   "execution_count": 5,
   "metadata": {},
   "outputs": [],
   "source": [
    "dataset = []\n",
    "\n",
    "for i in range(len(result)):\n",
    "    for j in range(len(result[i])):\n",
    "        dataset.append(result[i][j])"
   ]
  },
  {
   "cell_type": "code",
   "execution_count": 6,
   "metadata": {},
   "outputs": [],
   "source": [
    "import pandas as pd\n",
    "a = pd.DataFrame(dataset)\n",
    "a.columns = ['key_word','category','name','address','lat','long']"
   ]
  },
  {
   "cell_type": "code",
   "execution_count": 7,
   "metadata": {},
   "outputs": [
    {
     "data": {
      "text/html": [
       "<div>\n",
       "<style scoped>\n",
       "    .dataframe tbody tr th:only-of-type {\n",
       "        vertical-align: middle;\n",
       "    }\n",
       "\n",
       "    .dataframe tbody tr th {\n",
       "        vertical-align: top;\n",
       "    }\n",
       "\n",
       "    .dataframe thead th {\n",
       "        text-align: right;\n",
       "    }\n",
       "</style>\n",
       "<table border=\"1\" class=\"dataframe\">\n",
       "  <thead>\n",
       "    <tr style=\"text-align: right;\">\n",
       "      <th></th>\n",
       "      <th>key_word</th>\n",
       "      <th>category</th>\n",
       "      <th>name</th>\n",
       "      <th>address</th>\n",
       "      <th>lat</th>\n",
       "      <th>long</th>\n",
       "    </tr>\n",
       "  </thead>\n",
       "  <tbody>\n",
       "    <tr>\n",
       "      <th>0</th>\n",
       "      <td>고성리 게스트하우스</td>\n",
       "      <td>여행 &gt; 숙박 &gt; 게스트하우스</td>\n",
       "      <td>자고가게스트하우스</td>\n",
       "      <td>제주특별자치도 서귀포시 성산읍 고성리 559-4</td>\n",
       "      <td>33.4355456491355</td>\n",
       "      <td>126.92043239489318</td>\n",
       "    </tr>\n",
       "    <tr>\n",
       "      <th>1</th>\n",
       "      <td>고성리 게스트하우스</td>\n",
       "      <td>여행 &gt; 숙박 &gt; 게스트하우스</td>\n",
       "      <td>베프랑</td>\n",
       "      <td>제주특별자치도 서귀포시 성산읍 고성리 1478-1</td>\n",
       "      <td>33.4469247801584</td>\n",
       "      <td>126.907278214494</td>\n",
       "    </tr>\n",
       "    <tr>\n",
       "      <th>2</th>\n",
       "      <td>고성리 게스트하우스</td>\n",
       "      <td>여행 &gt; 숙박 &gt; 게스트하우스</td>\n",
       "      <td>낯선하루게스트하우스</td>\n",
       "      <td>제주특별자치도 서귀포시 성산읍 고성리 198</td>\n",
       "      <td>33.4362626537314</td>\n",
       "      <td>126.920779087369</td>\n",
       "    </tr>\n",
       "    <tr>\n",
       "      <th>3</th>\n",
       "      <td>고성리 게스트하우스</td>\n",
       "      <td>여행 &gt; 숙박 &gt; 게스트하우스</td>\n",
       "      <td>뱅디가름B&amp;B게스트하우스</td>\n",
       "      <td>제주특별자치도 서귀포시 성산읍 고성리 1052-4</td>\n",
       "      <td>33.4457184618885</td>\n",
       "      <td>126.90977464357</td>\n",
       "    </tr>\n",
       "    <tr>\n",
       "      <th>4</th>\n",
       "      <td>고성리 게스트하우스</td>\n",
       "      <td>여행 &gt; 숙박 &gt; 게스트하우스</td>\n",
       "      <td>성산에오거들랑 게스트하우스</td>\n",
       "      <td>제주특별자치도 서귀포시 성산읍 고성리 1410-9</td>\n",
       "      <td>33.45031201691746</td>\n",
       "      <td>126.90833295190288</td>\n",
       "    </tr>\n",
       "    <tr>\n",
       "      <th>...</th>\n",
       "      <td>...</td>\n",
       "      <td>...</td>\n",
       "      <td>...</td>\n",
       "      <td>...</td>\n",
       "      <td>...</td>\n",
       "      <td>...</td>\n",
       "    </tr>\n",
       "    <tr>\n",
       "      <th>900</th>\n",
       "      <td>시흥리 수국</td>\n",
       "      <td>여행 &gt; 관광,명소 &gt; 테마거리</td>\n",
       "      <td>종달리수국길</td>\n",
       "      <td>제주특별자치도 제주시 구좌읍 종달리</td>\n",
       "      <td>33.5081102141297</td>\n",
       "      <td>126.910497776084</td>\n",
       "    </tr>\n",
       "    <tr>\n",
       "      <th>901</th>\n",
       "      <td>시흥리 수국</td>\n",
       "      <td>여행 &gt; 관광,명소 &gt; 연못</td>\n",
       "      <td>혼인지</td>\n",
       "      <td>제주특별자치도 서귀포시 성산읍 온평리 1693</td>\n",
       "      <td>33.4151951723289</td>\n",
       "      <td>126.893774070705</td>\n",
       "    </tr>\n",
       "    <tr>\n",
       "      <th>902</th>\n",
       "      <td>서귀포 신산리 수국</td>\n",
       "      <td>여행 &gt; 관광,명소 &gt; 연못</td>\n",
       "      <td>혼인지</td>\n",
       "      <td>제주특별자치도 서귀포시 성산읍 온평리 1693</td>\n",
       "      <td>33.4151951723289</td>\n",
       "      <td>126.893774070705</td>\n",
       "    </tr>\n",
       "    <tr>\n",
       "      <th>903</th>\n",
       "      <td>온평리 수국</td>\n",
       "      <td>여행 &gt; 숙박 &gt; 펜션</td>\n",
       "      <td>종달리수국집</td>\n",
       "      <td>제주특별자치도 제주시 구좌읍 종달리 1113</td>\n",
       "      <td>33.4948910570646</td>\n",
       "      <td>126.90349950348383</td>\n",
       "    </tr>\n",
       "    <tr>\n",
       "      <th>904</th>\n",
       "      <td>온평리 수국</td>\n",
       "      <td>여행 &gt; 관광,명소 &gt; 연못</td>\n",
       "      <td>혼인지</td>\n",
       "      <td>제주특별자치도 서귀포시 성산읍 온평리 1693</td>\n",
       "      <td>33.4151951723289</td>\n",
       "      <td>126.893774070705</td>\n",
       "    </tr>\n",
       "  </tbody>\n",
       "</table>\n",
       "<p>905 rows × 6 columns</p>\n",
       "</div>"
      ],
      "text/plain": [
       "       key_word           category            name  \\\n",
       "0    고성리 게스트하우스   여행 > 숙박 > 게스트하우스       자고가게스트하우스   \n",
       "1    고성리 게스트하우스   여행 > 숙박 > 게스트하우스             베프랑   \n",
       "2    고성리 게스트하우스   여행 > 숙박 > 게스트하우스      낯선하루게스트하우스   \n",
       "3    고성리 게스트하우스   여행 > 숙박 > 게스트하우스   뱅디가름B&B게스트하우스   \n",
       "4    고성리 게스트하우스   여행 > 숙박 > 게스트하우스  성산에오거들랑 게스트하우스   \n",
       "..          ...                ...             ...   \n",
       "900      시흥리 수국  여행 > 관광,명소 > 테마거리          종달리수국길   \n",
       "901      시흥리 수국    여행 > 관광,명소 > 연못             혼인지   \n",
       "902  서귀포 신산리 수국    여행 > 관광,명소 > 연못             혼인지   \n",
       "903      온평리 수국       여행 > 숙박 > 펜션          종달리수국집   \n",
       "904      온평리 수국    여행 > 관광,명소 > 연못             혼인지   \n",
       "\n",
       "                         address                lat                long  \n",
       "0     제주특별자치도 서귀포시 성산읍 고성리 559-4   33.4355456491355  126.92043239489318  \n",
       "1    제주특별자치도 서귀포시 성산읍 고성리 1478-1   33.4469247801584    126.907278214494  \n",
       "2       제주특별자치도 서귀포시 성산읍 고성리 198   33.4362626537314    126.920779087369  \n",
       "3    제주특별자치도 서귀포시 성산읍 고성리 1052-4   33.4457184618885     126.90977464357  \n",
       "4    제주특별자치도 서귀포시 성산읍 고성리 1410-9  33.45031201691746  126.90833295190288  \n",
       "..                           ...                ...                 ...  \n",
       "900          제주특별자치도 제주시 구좌읍 종달리   33.5081102141297    126.910497776084  \n",
       "901    제주특별자치도 서귀포시 성산읍 온평리 1693   33.4151951723289    126.893774070705  \n",
       "902    제주특별자치도 서귀포시 성산읍 온평리 1693   33.4151951723289    126.893774070705  \n",
       "903     제주특별자치도 제주시 구좌읍 종달리 1113   33.4948910570646  126.90349950348383  \n",
       "904    제주특별자치도 서귀포시 성산읍 온평리 1693   33.4151951723289    126.893774070705  \n",
       "\n",
       "[905 rows x 6 columns]"
      ]
     },
     "execution_count": 7,
     "metadata": {},
     "output_type": "execute_result"
    }
   ],
   "source": [
    "a"
   ]
  },
  {
   "cell_type": "code",
   "execution_count": 9,
   "metadata": {},
   "outputs": [],
   "source": [
    "a.to_csv('keyword_map.csv',encoding = 'utf-8-sig',index=False)"
   ]
  },
  {
   "cell_type": "code",
   "execution_count": 31,
   "metadata": {
    "scrolled": true
   },
   "outputs": [
    {
     "data": {
      "text/plain": [
       "서귀포 신산리 맛집      15\n",
       "성산리 돼지고기        15\n",
       "서귀포 신산리 펜션      15\n",
       "오조리 맛집          15\n",
       "우도 여객터미널        15\n",
       "서귀포 신산리 카페      15\n",
       "오조리 카페          15\n",
       "시흥리 맛집          15\n",
       "고성리 전복          15\n",
       "온평리 맛집          15\n",
       "성산리 펜션          15\n",
       "서귀포 신산리 숙소      15\n",
       "성산리 맛집          15\n",
       "온평리 전복          15\n",
       "성산리 숙소          15\n",
       "성산리 전복          15\n",
       "오조리 돼지고기        15\n",
       "우도 맛집           15\n",
       "온평리 펜션          15\n",
       "오조리 전복          15\n",
       "우도 돼지고기         15\n",
       "고성리 돼지고기        15\n",
       "시흥리 돼지고기        14\n",
       "시흥리 전복          14\n",
       "우도 전복           13\n",
       "우도 게스트하우스       13\n",
       "고성리 해변          12\n",
       "시흥리 게스트하우스      11\n",
       "우도 해변           11\n",
       "성산리 해변          11\n",
       "시흥리 펜션          11\n",
       "서귀포 신산리 전복      11\n",
       "오조리 해변          11\n",
       "시흥리 해변          10\n",
       "시흥리 카페           9\n",
       "온평리 해변           8\n",
       "서귀포 신산리 돼지고기     7\n",
       "서귀포 신산리 해변       6\n",
       "온평리 갈치           3\n",
       "우도 갈치            3\n",
       "시흥리 갈치           3\n",
       "오조리 갈치           3\n",
       "고성리 갈치           3\n",
       "성산리 갈치           3\n",
       "고성리 수국           1\n",
       "시흥리 수국           1\n",
       "서귀포 신산리 수국       1\n",
       "성산리 수국           1\n",
       "온평리 수국           1\n",
       "오조리 수국           1\n",
       "Name: key_word, dtype: int64"
      ]
     },
     "execution_count": 31,
     "metadata": {},
     "output_type": "execute_result"
    }
   ],
   "source": [
    "b = a['key_word'].value_counts()\n",
    "b.tail(50)"
   ]
  },
  {
   "cell_type": "code",
   "execution_count": 20,
   "metadata": {},
   "outputs": [
    {
     "name": "stdout",
     "output_type": "stream",
     "text": [
      "<class 'pandas.core.frame.DataFrame'>\n",
      "RangeIndex: 905 entries, 0 to 904\n",
      "Data columns (total 6 columns):\n",
      " #   Column    Non-Null Count  Dtype \n",
      "---  ------    --------------  ----- \n",
      " 0   key_word  905 non-null    object\n",
      " 1   category  905 non-null    object\n",
      " 2   name      905 non-null    object\n",
      " 3   address   905 non-null    object\n",
      " 4   lat       905 non-null    object\n",
      " 5   long      905 non-null    object\n",
      "dtypes: object(6)\n",
      "memory usage: 42.5+ KB\n"
     ]
    },
    {
     "data": {
      "text/plain": [
       "0       제주특별자치도 서귀포시 성산읍 고성리 559-4\n",
       "1      제주특별자치도 서귀포시 성산읍 고성리 1478-1\n",
       "2         제주특별자치도 서귀포시 성산읍 고성리 198\n",
       "3      제주특별자치도 서귀포시 성산읍 고성리 1052-4\n",
       "4      제주특별자치도 서귀포시 성산읍 고성리 1410-9\n",
       "                  ...             \n",
       "900            제주특별자치도 제주시 구좌읍 종달리\n",
       "901      제주특별자치도 서귀포시 성산읍 온평리 1693\n",
       "902      제주특별자치도 서귀포시 성산읍 온평리 1693\n",
       "903       제주특별자치도 제주시 구좌읍 종달리 1113\n",
       "904      제주특별자치도 서귀포시 성산읍 온평리 1693\n",
       "Name: address, Length: 905, dtype: string"
      ]
     },
     "execution_count": 20,
     "metadata": {},
     "output_type": "execute_result"
    }
   ],
   "source": [
    "a.info()\n",
    "a['address'].astype('string')"
   ]
  },
  {
   "cell_type": "code",
   "execution_count": 23,
   "metadata": {},
   "outputs": [],
   "source": [
    "#주소에 제주/서귀포가 아닌것 지우기\n",
    "a =a[a['address'].apply(lambda x: any( i in x for i in ['제주','서귀포']))]"
   ]
  },
  {
   "cell_type": "code",
   "execution_count": 32,
   "metadata": {},
   "outputs": [
    {
     "name": "stdout",
     "output_type": "stream",
     "text": [
      "<class 'pandas.core.frame.DataFrame'>\n",
      "Int64Index: 826 entries, 0 to 904\n",
      "Data columns (total 6 columns):\n",
      " #   Column    Non-Null Count  Dtype \n",
      "---  ------    --------------  ----- \n",
      " 0   key_word  826 non-null    object\n",
      " 1   category  826 non-null    object\n",
      " 2   name      826 non-null    object\n",
      " 3   address   826 non-null    object\n",
      " 4   lat       826 non-null    object\n",
      " 5   long      826 non-null    object\n",
      "dtypes: object(6)\n",
      "memory usage: 45.2+ KB\n"
     ]
    }
   ],
   "source": [
    "#구좌 조천 표선 포함한 주소 지우기\n",
    "\n",
    "dropindex = a[a['address'].str.contains('구좌읍|조천|표선면')].index\n",
    "\n",
    "a = a.drop(index = dropindex)\n",
    "a.info()\n",
    "\n",
    "a.to_csv('keywords.csv',encoding = 'utf-8-sig',index=False)"
   ]
  },
  {
   "cell_type": "code",
   "execution_count": 34,
   "metadata": {},
   "outputs": [],
   "source": [
    "#위경도가 같을경우 삭제\n",
    "data = a.drop_duplicates(['lat','long'],keep='first')"
   ]
  },
  {
   "cell_type": "code",
   "execution_count": 40,
   "metadata": {},
   "outputs": [
    {
     "name": "stdout",
     "output_type": "stream",
     "text": [
      "<class 'pandas.core.frame.DataFrame'>\n",
      "Int64Index: 468 entries, 0 to 890\n",
      "Data columns (total 6 columns):\n",
      " #   Column    Non-Null Count  Dtype \n",
      "---  ------    --------------  ----- \n",
      " 0   key_word  468 non-null    object\n",
      " 1   category  468 non-null    object\n",
      " 2   name      468 non-null    object\n",
      " 3   address   468 non-null    object\n",
      " 4   lat       468 non-null    object\n",
      " 5   long      468 non-null    object\n",
      "dtypes: object(6)\n",
      "memory usage: 25.6+ KB\n"
     ]
    }
   ],
   "source": [
    "data.info()\n",
    "\n",
    "data.to_csv('final_dataset.csv',encoding = 'utf-8-sig',index=False)"
   ]
  },
  {
   "cell_type": "code",
   "execution_count": 39,
   "metadata": {},
   "outputs": [
    {
     "data": {
      "text/html": [
       "<div>\n",
       "<style scoped>\n",
       "    .dataframe tbody tr th:only-of-type {\n",
       "        vertical-align: middle;\n",
       "    }\n",
       "\n",
       "    .dataframe tbody tr th {\n",
       "        vertical-align: top;\n",
       "    }\n",
       "\n",
       "    .dataframe thead th {\n",
       "        text-align: right;\n",
       "    }\n",
       "</style>\n",
       "<table border=\"1\" class=\"dataframe\">\n",
       "  <thead>\n",
       "    <tr style=\"text-align: right;\">\n",
       "      <th></th>\n",
       "      <th>key_word</th>\n",
       "      <th>category</th>\n",
       "      <th>name</th>\n",
       "      <th>address</th>\n",
       "      <th>lat</th>\n",
       "      <th>long</th>\n",
       "    </tr>\n",
       "  </thead>\n",
       "  <tbody>\n",
       "    <tr>\n",
       "      <th>0</th>\n",
       "      <td>고성리 게스트하우스</td>\n",
       "      <td>여행 &gt; 숙박 &gt; 게스트하우스</td>\n",
       "      <td>자고가게스트하우스</td>\n",
       "      <td>제주특별자치도 서귀포시 성산읍 고성리 559-4</td>\n",
       "      <td>33.4355456491355</td>\n",
       "      <td>126.92043239489318</td>\n",
       "    </tr>\n",
       "    <tr>\n",
       "      <th>1</th>\n",
       "      <td>고성리 게스트하우스</td>\n",
       "      <td>여행 &gt; 숙박 &gt; 게스트하우스</td>\n",
       "      <td>베프랑</td>\n",
       "      <td>제주특별자치도 서귀포시 성산읍 고성리 1478-1</td>\n",
       "      <td>33.4469247801584</td>\n",
       "      <td>126.907278214494</td>\n",
       "    </tr>\n",
       "    <tr>\n",
       "      <th>2</th>\n",
       "      <td>고성리 게스트하우스</td>\n",
       "      <td>여행 &gt; 숙박 &gt; 게스트하우스</td>\n",
       "      <td>낯선하루게스트하우스</td>\n",
       "      <td>제주특별자치도 서귀포시 성산읍 고성리 198</td>\n",
       "      <td>33.4362626537314</td>\n",
       "      <td>126.920779087369</td>\n",
       "    </tr>\n",
       "    <tr>\n",
       "      <th>3</th>\n",
       "      <td>고성리 게스트하우스</td>\n",
       "      <td>여행 &gt; 숙박 &gt; 게스트하우스</td>\n",
       "      <td>뱅디가름B&amp;B게스트하우스</td>\n",
       "      <td>제주특별자치도 서귀포시 성산읍 고성리 1052-4</td>\n",
       "      <td>33.4457184618885</td>\n",
       "      <td>126.90977464357</td>\n",
       "    </tr>\n",
       "    <tr>\n",
       "      <th>4</th>\n",
       "      <td>고성리 게스트하우스</td>\n",
       "      <td>여행 &gt; 숙박 &gt; 게스트하우스</td>\n",
       "      <td>성산에오거들랑 게스트하우스</td>\n",
       "      <td>제주특별자치도 서귀포시 성산읍 고성리 1410-9</td>\n",
       "      <td>33.45031201691746</td>\n",
       "      <td>126.90833295190288</td>\n",
       "    </tr>\n",
       "    <tr>\n",
       "      <th>...</th>\n",
       "      <td>...</td>\n",
       "      <td>...</td>\n",
       "      <td>...</td>\n",
       "      <td>...</td>\n",
       "      <td>...</td>\n",
       "      <td>...</td>\n",
       "    </tr>\n",
       "    <tr>\n",
       "      <th>837</th>\n",
       "      <td>성산리 전복</td>\n",
       "      <td>음식점 &gt; 한식 &gt; 찌개,전골</td>\n",
       "      <td>돌하르방뚝배기</td>\n",
       "      <td>제주특별자치도 서귀포시 성산읍 성산리 141</td>\n",
       "      <td>33.4612016745382</td>\n",
       "      <td>126.933841045575</td>\n",
       "    </tr>\n",
       "    <tr>\n",
       "      <th>838</th>\n",
       "      <td>성산리 전복</td>\n",
       "      <td>음식점 &gt; 한식 &gt; 해물,생선</td>\n",
       "      <td>등경돌식당</td>\n",
       "      <td>제주특별자치도 서귀포시 성산읍 성산리 187</td>\n",
       "      <td>33.462615761228</td>\n",
       "      <td>126.934524118315</td>\n",
       "    </tr>\n",
       "    <tr>\n",
       "      <th>841</th>\n",
       "      <td>성산리 전복</td>\n",
       "      <td>음식점 &gt; 한식 &gt; 해물,생선</td>\n",
       "      <td>일조식당</td>\n",
       "      <td>제주특별자치도 서귀포시 성산읍 성산리 218-3</td>\n",
       "      <td>33.4646211325572</td>\n",
       "      <td>126.934888357964</td>\n",
       "    </tr>\n",
       "    <tr>\n",
       "      <th>864</th>\n",
       "      <td>서귀포 신산리 전복</td>\n",
       "      <td>교통,수송 &gt; 자동차 &gt; 전기자동차 충전소</td>\n",
       "      <td>전복마시문어마시 전기차충전소</td>\n",
       "      <td>제주특별자치도 서귀포시 성산읍 온평리 1116-9</td>\n",
       "      <td>33.4002940820545</td>\n",
       "      <td>126.903638598674</td>\n",
       "    </tr>\n",
       "    <tr>\n",
       "      <th>890</th>\n",
       "      <td>고성리 수국</td>\n",
       "      <td>여행 &gt; 관광,명소 &gt; 연못</td>\n",
       "      <td>혼인지</td>\n",
       "      <td>제주특별자치도 서귀포시 성산읍 온평리 1693</td>\n",
       "      <td>33.4151951723289</td>\n",
       "      <td>126.893774070705</td>\n",
       "    </tr>\n",
       "  </tbody>\n",
       "</table>\n",
       "<p>468 rows × 6 columns</p>\n",
       "</div>"
      ],
      "text/plain": [
       "       key_word                 category             name  \\\n",
       "0    고성리 게스트하우스         여행 > 숙박 > 게스트하우스        자고가게스트하우스   \n",
       "1    고성리 게스트하우스         여행 > 숙박 > 게스트하우스              베프랑   \n",
       "2    고성리 게스트하우스         여행 > 숙박 > 게스트하우스       낯선하루게스트하우스   \n",
       "3    고성리 게스트하우스         여행 > 숙박 > 게스트하우스    뱅디가름B&B게스트하우스   \n",
       "4    고성리 게스트하우스         여행 > 숙박 > 게스트하우스   성산에오거들랑 게스트하우스   \n",
       "..          ...                      ...              ...   \n",
       "837      성산리 전복         음식점 > 한식 > 찌개,전골          돌하르방뚝배기   \n",
       "838      성산리 전복         음식점 > 한식 > 해물,생선            등경돌식당   \n",
       "841      성산리 전복         음식점 > 한식 > 해물,생선             일조식당   \n",
       "864  서귀포 신산리 전복  교통,수송 > 자동차 > 전기자동차 충전소  전복마시문어마시 전기차충전소   \n",
       "890      고성리 수국          여행 > 관광,명소 > 연못              혼인지   \n",
       "\n",
       "                         address                lat                long  \n",
       "0     제주특별자치도 서귀포시 성산읍 고성리 559-4   33.4355456491355  126.92043239489318  \n",
       "1    제주특별자치도 서귀포시 성산읍 고성리 1478-1   33.4469247801584    126.907278214494  \n",
       "2       제주특별자치도 서귀포시 성산읍 고성리 198   33.4362626537314    126.920779087369  \n",
       "3    제주특별자치도 서귀포시 성산읍 고성리 1052-4   33.4457184618885     126.90977464357  \n",
       "4    제주특별자치도 서귀포시 성산읍 고성리 1410-9  33.45031201691746  126.90833295190288  \n",
       "..                           ...                ...                 ...  \n",
       "837     제주특별자치도 서귀포시 성산읍 성산리 141   33.4612016745382    126.933841045575  \n",
       "838     제주특별자치도 서귀포시 성산읍 성산리 187    33.462615761228    126.934524118315  \n",
       "841   제주특별자치도 서귀포시 성산읍 성산리 218-3   33.4646211325572    126.934888357964  \n",
       "864  제주특별자치도 서귀포시 성산읍 온평리 1116-9   33.4002940820545    126.903638598674  \n",
       "890    제주특별자치도 서귀포시 성산읍 온평리 1693   33.4151951723289    126.893774070705  \n",
       "\n",
       "[468 rows x 6 columns]"
      ]
     },
     "execution_count": 39,
     "metadata": {},
     "output_type": "execute_result"
    }
   ],
   "source": []
  },
  {
   "cell_type": "code",
   "execution_count": 52,
   "metadata": {},
   "outputs": [
    {
     "name": "stdout",
     "output_type": "stream",
     "text": [
      "<class 'pandas.core.frame.DataFrame'>\n",
      "Int64Index: 101 entries, 0 to 890\n",
      "Data columns (total 6 columns):\n",
      " #   Column    Non-Null Count  Dtype \n",
      "---  ------    --------------  ----- \n",
      " 0   key_word  101 non-null    object\n",
      " 1   category  101 non-null    object\n",
      " 2   name      101 non-null    object\n",
      " 3   address   101 non-null    object\n",
      " 4   lat       101 non-null    object\n",
      " 5   long      101 non-null    object\n",
      "dtypes: object(6)\n",
      "memory usage: 5.5+ KB\n"
     ]
    }
   ],
   "source": [
    "#고성리 \n",
    "gosung =data[data['key_word'].apply(lambda x: any( i in x for i in ['고성']))]\n",
    "gosung.info()"
   ]
  },
  {
   "cell_type": "code",
   "execution_count": 45,
   "metadata": {},
   "outputs": [
    {
     "name": "stdout",
     "output_type": "stream",
     "text": [
      "<class 'pandas.core.frame.DataFrame'>\n",
      "Int64Index: 80 entries, 15 to 812\n",
      "Data columns (total 6 columns):\n",
      " #   Column    Non-Null Count  Dtype \n",
      "---  ------    --------------  ----- \n",
      " 0   key_word  80 non-null     object\n",
      " 1   category  80 non-null     object\n",
      " 2   name      80 non-null     object\n",
      " 3   address   80 non-null     object\n",
      " 4   lat       80 non-null     object\n",
      " 5   long      80 non-null     object\n",
      "dtypes: object(6)\n",
      "memory usage: 4.4+ KB\n"
     ]
    }
   ],
   "source": [
    "#우도\n",
    "udo = data[data['key_word'].apply(lambda x: any( i in x for i in ['우도']))]\n",
    "udo.info()  #80개"
   ]
  },
  {
   "cell_type": "code",
   "execution_count": 46,
   "metadata": {},
   "outputs": [
    {
     "name": "stdout",
     "output_type": "stream",
     "text": [
      "<class 'pandas.core.frame.DataFrame'>\n",
      "Int64Index: 58 entries, 30 to 826\n",
      "Data columns (total 6 columns):\n",
      " #   Column    Non-Null Count  Dtype \n",
      "---  ------    --------------  ----- \n",
      " 0   key_word  58 non-null     object\n",
      " 1   category  58 non-null     object\n",
      " 2   name      58 non-null     object\n",
      " 3   address   58 non-null     object\n",
      " 4   lat       58 non-null     object\n",
      " 5   long      58 non-null     object\n",
      "dtypes: object(6)\n",
      "memory usage: 3.2+ KB\n"
     ]
    }
   ],
   "source": [
    "#오조리\n",
    "ozo = data[data['key_word'].apply(lambda x: any( i in x for i in ['오조']))]\n",
    "ozo.info()  #58개"
   ]
  },
  {
   "cell_type": "code",
   "execution_count": 47,
   "metadata": {},
   "outputs": [
    {
     "name": "stdout",
     "output_type": "stream",
     "text": [
      "<class 'pandas.core.frame.DataFrame'>\n",
      "Int64Index: 75 entries, 45 to 841\n",
      "Data columns (total 6 columns):\n",
      " #   Column    Non-Null Count  Dtype \n",
      "---  ------    --------------  ----- \n",
      " 0   key_word  75 non-null     object\n",
      " 1   category  75 non-null     object\n",
      " 2   name      75 non-null     object\n",
      " 3   address   75 non-null     object\n",
      " 4   lat       75 non-null     object\n",
      " 5   long      75 non-null     object\n",
      "dtypes: object(6)\n",
      "memory usage: 4.1+ KB\n"
     ]
    }
   ],
   "source": [
    "#성산리\n",
    "ss = data[data['key_word'].apply(lambda x: any( i in x for i in ['성산']))]\n",
    "ss.info()  #75개"
   ]
  },
  {
   "cell_type": "code",
   "execution_count": 48,
   "metadata": {},
   "outputs": [
    {
     "name": "stdout",
     "output_type": "stream",
     "text": [
      "<class 'pandas.core.frame.DataFrame'>\n",
      "Int64Index: 37 entries, 60 to 746\n",
      "Data columns (total 6 columns):\n",
      " #   Column    Non-Null Count  Dtype \n",
      "---  ------    --------------  ----- \n",
      " 0   key_word  37 non-null     object\n",
      " 1   category  37 non-null     object\n",
      " 2   name      37 non-null     object\n",
      " 3   address   37 non-null     object\n",
      " 4   lat       37 non-null     object\n",
      " 5   long      37 non-null     object\n",
      "dtypes: object(6)\n",
      "memory usage: 2.0+ KB\n"
     ]
    }
   ],
   "source": [
    "#시흥리\n",
    "\n",
    "siheung = data[data['key_word'].apply(lambda x: any( i in x for i in ['시흥']))]\n",
    "siheung.info()  #37개"
   ]
  },
  {
   "cell_type": "code",
   "execution_count": 50,
   "metadata": {},
   "outputs": [
    {
     "name": "stdout",
     "output_type": "stream",
     "text": [
      "<class 'pandas.core.frame.DataFrame'>\n",
      "Int64Index: 60 entries, 75 to 864\n",
      "Data columns (total 6 columns):\n",
      " #   Column    Non-Null Count  Dtype \n",
      "---  ------    --------------  ----- \n",
      " 0   key_word  60 non-null     object\n",
      " 1   category  60 non-null     object\n",
      " 2   name      60 non-null     object\n",
      " 3   address   60 non-null     object\n",
      " 4   lat       60 non-null     object\n",
      " 5   long      60 non-null     object\n",
      "dtypes: object(6)\n",
      "memory usage: 3.3+ KB\n"
     ]
    }
   ],
   "source": [
    "#신산리\n",
    "\n",
    "sinsan = data[data['key_word'].apply(lambda x: any( i in x for i in ['신산']))]\n",
    "sinsan.info()  #60개"
   ]
  },
  {
   "cell_type": "code",
   "execution_count": 51,
   "metadata": {},
   "outputs": [
    {
     "name": "stdout",
     "output_type": "stream",
     "text": [
      "<class 'pandas.core.frame.DataFrame'>\n",
      "Int64Index: 57 entries, 90 to 782\n",
      "Data columns (total 6 columns):\n",
      " #   Column    Non-Null Count  Dtype \n",
      "---  ------    --------------  ----- \n",
      " 0   key_word  57 non-null     object\n",
      " 1   category  57 non-null     object\n",
      " 2   name      57 non-null     object\n",
      " 3   address   57 non-null     object\n",
      " 4   lat       57 non-null     object\n",
      " 5   long      57 non-null     object\n",
      "dtypes: object(6)\n",
      "memory usage: 3.1+ KB\n"
     ]
    }
   ],
   "source": [
    "#온평리\n",
    "\n",
    "onpyeong = data[data['key_word'].apply(lambda x: any( i in x for i in ['온평']))]\n",
    "onpyeong.info()  #57개"
   ]
  },
  {
   "cell_type": "markdown",
   "metadata": {},
   "source": [
    "# 고성리"
   ]
  },
  {
   "cell_type": "code",
   "execution_count": 54,
   "metadata": {},
   "outputs": [
    {
     "data": {
      "text/plain": [
       "고성리 맛집        15\n",
       "고성리 게스트하우스    15\n",
       "고성리 돼지고기      14\n",
       "고성리 해변        12\n",
       "고성리 숙소        12\n",
       "고성리 펜션        11\n",
       "고성리 카페        10\n",
       "고성리 전복         9\n",
       "고성리 갈치         2\n",
       "고성리 수국         1\n",
       "Name: key_word, dtype: int64"
      ]
     },
     "execution_count": 54,
     "metadata": {},
     "output_type": "execute_result"
    }
   ],
   "source": [
    "gosung['key_word'].value_counts()"
   ]
  },
  {
   "cell_type": "code",
   "execution_count": 62,
   "metadata": {},
   "outputs": [
    {
     "data": {
      "text/plain": [
       "여행 > 숙박 > 게스트하우스            15\n",
       "여행 > 숙박 > 펜션                15\n",
       "음식점 > 한식 > 육류,고기            12\n",
       "음식점 > 카페                     9\n",
       "여행 > 관광,명소 > 해수욕장,해변         8\n",
       "여행 > 숙박 > 호텔                 7\n",
       "음식점 > 한식 > 해물,생선             7\n",
       "음식점 > 한식 > 해물,생선 > 회         4\n",
       "음식점 > 한식                     4\n",
       "음식점 > 한식 > 국수                2\n",
       "여행 > 숙박 > 민박                 2\n",
       "음식점 > 분식                     2\n",
       "음식점 > 카페 > 테마카페 > 디저트카페      2\n",
       "음식점 > 카페 > 커피전문점             2\n",
       "음식점 > 한식 > 육류,고기 > 족발,보쌈     1\n",
       "교통,수송 > 교통시설 > 주차장           1\n",
       "음식점 > 카페 > 테마카페              1\n",
       "가정,생활 > 식품판매 > 수산물판매         1\n",
       "음식점 > 한식 > 한정식               1\n",
       "여행 > 관광,명소 > 연못              1\n",
       "음식점 > 한식 > 쌈밥                1\n",
       "여행 > 숙박 > 콘도,리조트             1\n",
       "음식점 > 카페 > 커피전문점 > 스타벅스      1\n",
       "여행 > 숙박 > 호텔 > 특급호텔          1\n",
       "Name: category, dtype: int64"
      ]
     },
     "execution_count": 62,
     "metadata": {},
     "output_type": "execute_result"
    }
   ],
   "source": [
    "gosung['category'].value_counts()"
   ]
  },
  {
   "cell_type": "markdown",
   "metadata": {},
   "source": [
    "# 우도"
   ]
  },
  {
   "cell_type": "code",
   "execution_count": 56,
   "metadata": {},
   "outputs": [
    {
     "data": {
      "text/plain": [
       "우도 맛집        15\n",
       "우도 여객터미널     14\n",
       "우도 게스트하우스    13\n",
       "우도 카페        11\n",
       "우도 숙소        11\n",
       "우도 전복         6\n",
       "우도 펜션         5\n",
       "우도 돼지고기       5\n",
       "Name: key_word, dtype: int64"
      ]
     },
     "execution_count": 56,
     "metadata": {},
     "output_type": "execute_result"
    }
   ],
   "source": [
    "udo['key_word'].value_counts()"
   ]
  },
  {
   "cell_type": "code",
   "execution_count": 63,
   "metadata": {},
   "outputs": [
    {
     "data": {
      "text/plain": [
       "여행 > 숙박 > 펜션                            15\n",
       "여행 > 숙박 > 게스트하우스                        13\n",
       "음식점 > 카페                                11\n",
       "음식점 > 한식 > 해물,생선                         8\n",
       "음식점 > 한식 > 육류,고기                         4\n",
       "음식점 > 한식                                 3\n",
       "음식점 > 한식 > 해물,생선 > 굴,전복                  2\n",
       "음식점 > 한식 > 국수                            2\n",
       "교통,수송 > 교통시설 > 여객선터미널                    2\n",
       "음식점 > 한식 > 해물,생선 > 회                     2\n",
       "음식점 > 카페 > 커피전문점                         2\n",
       "교통,수송 > 자동차 > 전기자동차 충전소 > 환경부전기차 충전소     1\n",
       "교통,수송 > 교통시설 > 선착장,항만시설                  1\n",
       "여행 > 관광,명소                               1\n",
       "음식점 > 간식 > 제과,베이커리                       1\n",
       "가정,생활 > 편의점 > CU                         1\n",
       "교통,수송 > 교통시설 > 주차장 > 공영주차장               1\n",
       "음식점 > 퓨전요리                               1\n",
       "교통,수송 > 도로시설 > 톨게이트                      1\n",
       "음식점 > 카페 > 테마카페 > 디저트카페                  1\n",
       "여행 > 숙박 > 야영,캠핑장 > 오토캠핑장                 1\n",
       "음식점 > 양식 > 햄버거                           1\n",
       "스포츠,레저 > 낚시                              1\n",
       "교통,수송 > 교통시설 > 선착장,항만시설 > 유람선선착장         1\n",
       "가정,생활 > 식품판매 > 수산물판매                     1\n",
       "교통,수송 > 교통시설 > 주차장                       1\n",
       "음식점 > 간식 > 아이스크림                         1\n",
       "Name: category, dtype: int64"
      ]
     },
     "execution_count": 63,
     "metadata": {},
     "output_type": "execute_result"
    }
   ],
   "source": [
    "udo['category'].value_counts()"
   ]
  },
  {
   "cell_type": "markdown",
   "metadata": {},
   "source": [
    "# 오조리"
   ]
  },
  {
   "cell_type": "code",
   "execution_count": 57,
   "metadata": {},
   "outputs": [
    {
     "data": {
      "text/plain": [
       "오조리 맛집        15\n",
       "오조리 게스트하우스    15\n",
       "오조리 숙소         9\n",
       "오조리 펜션         9\n",
       "오조리 카페         6\n",
       "오조리 전복         3\n",
       "오조리 돼지고기       1\n",
       "Name: key_word, dtype: int64"
      ]
     },
     "execution_count": 57,
     "metadata": {},
     "output_type": "execute_result"
    }
   ],
   "source": [
    "ozo['key_word'].value_counts()"
   ]
  },
  {
   "cell_type": "code",
   "execution_count": 64,
   "metadata": {},
   "outputs": [
    {
     "data": {
      "text/plain": [
       "여행 > 숙박 > 게스트하우스                   15\n",
       "여행 > 숙박 > 펜션                       15\n",
       "음식점 > 카페                            8\n",
       "음식점 > 한식 > 육류,고기                    5\n",
       "음식점 > 한식 > 해물,생선                    3\n",
       "음식점 > 한식 > 해물,생선 > 굴,전복             3\n",
       "여행 > 숙박 > 콘도,리조트                    2\n",
       "여행 > 숙박 > 호텔                        1\n",
       "음식점 > 한식 > 해물,생선 > 매운탕,해물탕          1\n",
       "음식점 > 카페 > 테마카페 > 디저트카페 > 요거프레소     1\n",
       "음식점 > 한식 > 한정식                      1\n",
       "음식점 > 중식 > 중화요리                     1\n",
       "음식점 > 카페 > 커피전문점                    1\n",
       "음식점 > 한식                            1\n",
       "Name: category, dtype: int64"
      ]
     },
     "execution_count": 64,
     "metadata": {},
     "output_type": "execute_result"
    }
   ],
   "source": [
    "ozo['category'].value_counts()"
   ]
  },
  {
   "cell_type": "markdown",
   "metadata": {},
   "source": [
    "# 성산리 "
   ]
  },
  {
   "cell_type": "code",
   "execution_count": 58,
   "metadata": {},
   "outputs": [
    {
     "data": {
      "text/plain": [
       "성산리 맛집        15\n",
       "성산일출봉         14\n",
       "성산리 카페        11\n",
       "성산리 펜션        11\n",
       "성산리 숙소        10\n",
       "성산리 게스트하우스    10\n",
       "성산리 전복         4\n",
       "Name: key_word, dtype: int64"
      ]
     },
     "execution_count": 58,
     "metadata": {},
     "output_type": "execute_result"
    }
   ],
   "source": [
    "ss['key_word'].value_counts()"
   ]
  },
  {
   "cell_type": "code",
   "execution_count": 65,
   "metadata": {},
   "outputs": [
    {
     "data": {
      "text/plain": [
       "여행 > 숙박 > 펜션                            15\n",
       "음식점 > 카페                                10\n",
       "음식점 > 한식 > 해물,생선                        10\n",
       "여행 > 숙박 > 게스트하우스                        10\n",
       "여행 > 숙박 > 호텔                             7\n",
       "금융,보험 > 금융서비스 > 협동,소비조합 > 농축협농협          2\n",
       "음식점 > 카페 > 테마카페 > 디저트카페                  2\n",
       "음식점 > 한식 > 찌개,전골                         2\n",
       "가정,생활 > 슈퍼마켓 > 대형슈퍼 > 하나로마트              2\n",
       "교통,수송 > 자동차 > 전기자동차 충전소                  1\n",
       "음식점 > 양식 > 멕시칸,브라질                       1\n",
       "음식점 > 카페 > 커피전문점 > 빽다방                   1\n",
       "음식점 > 카페 > 커피전문점 > 이디야커피                 1\n",
       "여행 > 관광,명소 > 산봉우리                        1\n",
       "음식점 > 간식 > 제과,베이커리                       1\n",
       "교통,수송 > 자동차 > 전기자동차 충전소 > 환경부전기차 충전소     1\n",
       "서비스,산업 > 관리,운영 > 공원관리운영                  1\n",
       "음식점 > 분식                                 1\n",
       "음식점 > 카페 > 커피전문점 > 스타벅스                  1\n",
       "음식점 > 양식                                 1\n",
       "음식점 > 한식 > 육류,고기                         1\n",
       "음식점 > 한식 > 국수                            1\n",
       "교통,수송 > 교통시설 > 주차장                       1\n",
       "교통,수송 > 자동차 > 주유,가스 > 주유소 > 농협주유소        1\n",
       "Name: category, dtype: int64"
      ]
     },
     "execution_count": 65,
     "metadata": {},
     "output_type": "execute_result"
    }
   ],
   "source": [
    "ss['category'].value_counts()"
   ]
  },
  {
   "cell_type": "markdown",
   "metadata": {},
   "source": [
    "# 시흥리"
   ]
  },
  {
   "cell_type": "code",
   "execution_count": 59,
   "metadata": {},
   "outputs": [
    {
     "data": {
      "text/plain": [
       "시흥리 맛집        14\n",
       "시흥리 숙소        10\n",
       "시흥리 게스트하우스     8\n",
       "시흥리 펜션         4\n",
       "시흥리 돼지고기       1\n",
       "Name: key_word, dtype: int64"
      ]
     },
     "execution_count": 59,
     "metadata": {},
     "output_type": "execute_result"
    }
   ],
   "source": [
    "siheung['key_word'].value_counts()"
   ]
  },
  {
   "cell_type": "code",
   "execution_count": 66,
   "metadata": {},
   "outputs": [
    {
     "data": {
      "text/plain": [
       "여행 > 숙박 > 펜션               9\n",
       "여행 > 숙박 > 게스트하우스           8\n",
       "음식점 > 한식 > 육류,고기           3\n",
       "음식점 > 한식                   3\n",
       "여행 > 숙박 > 콘도,리조트           3\n",
       "음식점 > 카페                   2\n",
       "음식점 > 분식                   2\n",
       "음식점 > 카페 > 커피전문점 > 네스카페    1\n",
       "여행 > 숙박 > 호텔               1\n",
       "음식점 > 치킨 > 굽네치킨            1\n",
       "음식점 > 카페 > 커피전문점 > 카페베네    1\n",
       "여행 > 숙박 > 민박               1\n",
       "음식점 > 한식 > 죽               1\n",
       "음식점 > 한식 > 해물,생선           1\n",
       "Name: category, dtype: int64"
      ]
     },
     "execution_count": 66,
     "metadata": {},
     "output_type": "execute_result"
    }
   ],
   "source": [
    "siheung['category'].value_counts()"
   ]
  },
  {
   "cell_type": "markdown",
   "metadata": {},
   "source": [
    "# 신산리"
   ]
  },
  {
   "cell_type": "code",
   "execution_count": 60,
   "metadata": {},
   "outputs": [
    {
     "data": {
      "text/plain": [
       "서귀포 신산리 맛집        15\n",
       "서귀포 신산리 게스트하우스    15\n",
       "서귀포 신산리 숙소        11\n",
       "서귀포 신산리 카페        10\n",
       "서귀포 신산리 펜션         6\n",
       "서귀포 신산리 돼지고기       2\n",
       "서귀포 신산리 전복         1\n",
       "Name: key_word, dtype: int64"
      ]
     },
     "execution_count": 60,
     "metadata": {},
     "output_type": "execute_result"
    }
   ],
   "source": [
    "sinsan['key_word'].value_counts()"
   ]
  },
  {
   "cell_type": "code",
   "execution_count": 67,
   "metadata": {},
   "outputs": [
    {
     "data": {
      "text/plain": [
       "여행 > 숙박 > 펜션                   15\n",
       "여행 > 숙박 > 게스트하우스               15\n",
       "음식점 > 카페                       10\n",
       "음식점 > 한식 > 육류,고기 > 불고기,두루치기     2\n",
       "음식점 > 한식                        2\n",
       "여행 > 숙박 > 콘도,리조트                2\n",
       "음식점 > 한식 > 육류,고기                2\n",
       "음식점 > 분식                        1\n",
       "음식점 > 카페 > 테마카페                 1\n",
       "음식점 > 양식                        1\n",
       "음식점 > 카페 > 테마카페 > 북카페           1\n",
       "음식점 > 한식 > 해물,생선                1\n",
       "음식점 > 한식 > 해물,생선 > 회            1\n",
       "음식점 > 중식 > 중화요리                 1\n",
       "음식점 > 카페 > 다방                   1\n",
       "음식점 > 한식 > 국수                   1\n",
       "음식점 > 술집 > 호프,요리주점              1\n",
       "음식점 > 카페 > 테마카페 > 디저트카페         1\n",
       "교통,수송 > 자동차 > 전기자동차 충전소         1\n",
       "Name: category, dtype: int64"
      ]
     },
     "execution_count": 67,
     "metadata": {},
     "output_type": "execute_result"
    }
   ],
   "source": [
    "sinsan['category'].value_counts()"
   ]
  },
  {
   "cell_type": "markdown",
   "metadata": {},
   "source": [
    "# 온평리"
   ]
  },
  {
   "cell_type": "code",
   "execution_count": 61,
   "metadata": {},
   "outputs": [
    {
     "data": {
      "text/plain": [
       "온평리 맛집        15\n",
       "온평리 게스트하우스    14\n",
       "온평리 숙소         9\n",
       "온평리 카페         8\n",
       "온평리 펜션         8\n",
       "온평리 돼지고기       3\n",
       "Name: key_word, dtype: int64"
      ]
     },
     "execution_count": 61,
     "metadata": {},
     "output_type": "execute_result"
    }
   ],
   "source": [
    "onpyeong['key_word'].value_counts()"
   ]
  },
  {
   "cell_type": "code",
   "execution_count": 68,
   "metadata": {},
   "outputs": [
    {
     "data": {
      "text/plain": [
       "여행 > 숙박 > 펜션               15\n",
       "여행 > 숙박 > 게스트하우스           14\n",
       "음식점 > 카페                    7\n",
       "음식점 > 한식 > 해물,생선            4\n",
       "음식점 > 한식                    4\n",
       "음식점 > 한식 > 육류,고기            2\n",
       "음식점 > 한식 > 해물,생선 > 회        2\n",
       "음식점 > 카페 > 테마카페 > 디저트카페     2\n",
       "여행 > 숙박 > 콘도,리조트            2\n",
       "음식점 > 양식 > 해산물              1\n",
       "음식점 > 분식                    1\n",
       "음식점 > 한식 > 해장국              1\n",
       "음식점 > 한식 > 한정식              1\n",
       "음식점 > 중식 > 중화요리             1\n",
       "Name: category, dtype: int64"
      ]
     },
     "execution_count": 68,
     "metadata": {},
     "output_type": "execute_result"
    }
   ],
   "source": [
    "onpyeong['category'].value_counts()"
   ]
  },
  {
   "cell_type": "code",
   "execution_count": null,
   "metadata": {},
   "outputs": [],
   "source": []
  },
  {
   "cell_type": "code",
   "execution_count": null,
   "metadata": {},
   "outputs": [],
   "source": []
  },
  {
   "cell_type": "code",
   "execution_count": null,
   "metadata": {},
   "outputs": [],
   "source": []
  },
  {
   "cell_type": "code",
   "execution_count": null,
   "metadata": {},
   "outputs": [],
   "source": []
  }
 ],
 "metadata": {
  "kernelspec": {
   "display_name": "Python 3",
   "language": "python",
   "name": "python3"
  },
  "language_info": {
   "codemirror_mode": {
    "name": "ipython",
    "version": 3
   },
   "file_extension": ".py",
   "mimetype": "text/x-python",
   "name": "python",
   "nbconvert_exporter": "python",
   "pygments_lexer": "ipython3",
   "version": "3.7.6"
  },
  "toc": {
   "base_numbering": 1,
   "nav_menu": {},
   "number_sections": true,
   "sideBar": true,
   "skip_h1_title": false,
   "title_cell": "Table of Contents",
   "title_sidebar": "Contents",
   "toc_cell": false,
   "toc_position": {
    "height": "calc(100% - 180px)",
    "left": "10px",
    "top": "150px",
    "width": "192.257px"
   },
   "toc_section_display": true,
   "toc_window_display": true
  }
 },
 "nbformat": 4,
 "nbformat_minor": 4
}
